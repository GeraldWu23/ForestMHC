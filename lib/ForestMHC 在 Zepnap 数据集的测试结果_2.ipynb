{
 "cells": [
  {
   "cell_type": "code",
   "execution_count": 6,
   "metadata": {},
   "outputs": [],
   "source": [
    "from extractor_local import Extractor\n",
    "from filter_local import Filter\n",
    "from auxiliary import condition_allele, get_in_list\n",
    "from forest_mhc_func_local import forest_mhc\n",
    "import pandas as pd\n",
    "import numpy as np\n",
    "import sklearn.metrics as skm\n",
    "import matplotlib.pyplot as plt\n",
    "%matplotlib inline"
   ]
  },
  {
   "cell_type": "markdown",
   "metadata": {},
   "source": [
    "### Extractor"
   ]
  },
  {
   "cell_type": "code",
   "execution_count": null,
   "metadata": {},
   "outputs": [],
   "source": [
    "with open('D://ForestMHC_origin/ForestMHC_master/lib/aa.txt') as aafile:\n",
    "    aali = aafile.read()\n",
    "    aali = aali.split(',')\n",
    "\n",
    "hydropathy_score = {\n",
    "'G':-0.4, 'A':1.8, 'P':-1.6, 'V':4.2, 'L':3.8, 'I':4.5, 'M':1.9,\n",
    "'F':2.8, 'Y':-1.3, 'W':-0.9, 'S':-0.8, 'T':-0.7, 'C':2.5, 'N':-3.5,\n",
    "'Q':-3.5, 'K':-3.9, 'H':-3.2, 'R':-4.5, 'D':-3.5, 'E':-3.5\n",
    "                    }\n",
    "\n",
    "molar_mass = {\n",
    "'G':75, 'A':89, 'P':115, 'V':117, 'L':131, 'I':131, 'M':149,\n",
    "'F':165, 'Y':181, 'W':204, 'S':105, 'T':119, 'C':121, 'N':132,\n",
    "'Q':146, 'K':146, 'H':155, 'R':174, 'D':133, 'E':147\n",
    "              }\n",
    "\n",
    "aromatics = ['F', 'Y', 'W']\n",
    "\n",
    "\n",
    "def sparse(pep, aa):\n",
    "    '''\n",
    "    pep = a peptide\n",
    "    '''\n",
    "    onehot = []\n",
    "    for a in pep:\n",
    "        for r in aa:\n",
    "            onehot.append(1 if a==r else 0)\n",
    "    \n",
    "    return onehot # length = (number of amino-acid) * 20\n",
    "\n",
    "\n",
    "def hydropathy(pep, aa):\n",
    "    '''\n",
    "    pep = a peptide\n",
    "    '''\n",
    "    hydro_out = []\n",
    "    for a in pep:\n",
    "        hydro_out.append(hydropathy_score[a])\n",
    "    \n",
    "    return hydro_out\n",
    "\n",
    "def mass(pep, aa):\n",
    "    '''\n",
    "    pep = a peptide\n",
    "    '''\n",
    "    mass_out = []\n",
    "    for a in pep:\n",
    "        mass_out.append(float(molar_mass[a])/(max(molar_mass.values())))\n",
    "    \n",
    "    return mass_out\n",
    "\n",
    "\n",
    "def is_aromatics(pep, aa):\n",
    "    '''\n",
    "    pep = a peptide\n",
    "    '''\n",
    "    onehot = []\n",
    "    for a in pep:\n",
    "        onehot.append(1 if a in aromatics else 0)  # only answer whether there is aromatics with this amino-acid\n",
    "    \n",
    "    return onehot\n",
    "\n",
    "    \n",
    "class Extractor():\n",
    "    def __init__(self, featlist, aa):\n",
    "        self.featlist = featlist  # feature list that used to clf\n",
    "        self.aa = aa  # amino-acid dict\n",
    "        self.menu = {\n",
    "                'hydropathy':hydropathy,\n",
    "                'mass':mass,\n",
    "                'is_aromatic':is_aromatics,\n",
    "                'sparse':sparse\n",
    "                }\n",
    "        \n",
    "        self.funcli = [self.menu.get(feat) if feat in self.menu.keys() else lambda a,b :\"no such feature\" for feat in featlist]\n",
    "        \n",
    "    def extract_from_list(self, pepls):\n",
    "        '''\n",
    "        pepls = peptide list\n",
    "        \n",
    "        '''\n",
    "        output = []\n",
    "        for pep in pepls:\n",
    "            pepvector = []\n",
    "            for func in self.funcli:\n",
    "                pepvector.extend(func(pep, self.aa))\n",
    "            output.append(pepvector)\n",
    "        return output"
   ]
  },
  {
   "cell_type": "markdown",
   "metadata": {},
   "source": [
    "### Filter"
   ]
  },
  {
   "cell_type": "code",
   "execution_count": null,
   "metadata": {},
   "outputs": [],
   "source": [
    "class Filter:\n",
    "    def __init__(self, removeC, aa, threshold = None, len_set = [9]):\n",
    "        self.removeC = removeC\n",
    "        self.aa = aa\n",
    "        self.threshold = threshold\n",
    "        self.len_set = len_set\n",
    "        \n",
    "        self.callcount = 0\n",
    "        self.aacount = 0\n",
    "        self.lencount = 0\n",
    "        self.removeCcount = 0\n",
    "        \n",
    "    \n",
    "    def may_pass(self, pep):\n",
    "        self.callcount += 1\n",
    "    \n",
    "        for a in str(pep):\n",
    "            #print(type(pep))\n",
    "            if a not in self.aa:\n",
    "                self.aacount += 1\n",
    "                return False # forbidden amino acid\n",
    "        \n",
    "        if len(pep) not in self.len_set:\n",
    "            self.lencount += 1\n",
    "            return False # forbidden peptide length\n",
    "        \n",
    "        if self.removeC and 'C' in pep:\n",
    "            self.removeCcount += 1\n",
    "            return False # cystein exists\n",
    "        else:\n",
    "            return True\n",
    "        \n",
    "    \n",
    "    \n",
    "    def report(self):\n",
    "        try:\n",
    "            print('times of callings are ' + str(self.callcount))\n",
    "            print(str(self.aacount) + \" removed because of illegal amino acid,\")\n",
    "            print(str(self.removeCcount) + \" removed because of containing cystein,\")\n",
    "            print(str(self.lencount) + \" removed because of illegal length of peptides\")\n",
    "        except:\n",
    "            print(\"LOCAL FILTER REPORT ERROR\")\n",
    "            return True            "
   ]
  },
  {
   "cell_type": "markdown",
   "metadata": {},
   "source": [
    "### auxiliary"
   ]
  },
  {
   "cell_type": "code",
   "execution_count": null,
   "metadata": {},
   "outputs": [],
   "source": [
    "import sys\n",
    "\n",
    "def condition_allele(allele):\n",
    "    to_remove = ['HLA', '-', '*', ':', '\\n']\n",
    "    for bad_str in to_remove:\n",
    "        allele = allele.replace(bad_str, '')\n",
    "    return allele\n",
    "\n",
    "def getopts(argv):\n",
    "    opts = {}\n",
    "    while argv:\n",
    "        if argv[0][0] == '-':\n",
    "            opts[argv[0]] = argv[1]\n",
    "        argv = argv[1:]\n",
    "    return opts\n",
    "\n",
    "def get_in_list(infile_path):\n",
    "    try:\n",
    "        with open(infile_path,'r') as infile:\n",
    "            orig_peptides = infile.read().split('\\n')\n",
    "        return orig_peptides\n",
    "    except IOError:\n",
    "        sys.exit('No input file at specified path')\n",
    "\n",
    "def write_results(alleles, infile_path, outfile_path, sorted_data, failed_peps):\n",
    "    try:\n",
    "        outfile = open(outfile_path, 'w')\n",
    "    except IOError:\n",
    "        sys.exit('Cannot open specified output file')\n",
    "    \n",
    "    outfile.write('#ForestMHC Output\\n')\n",
    "    outfile.write('#Input: '+infile_path+'\\n')\n",
    "    if alleles is None:\n",
    "        outfile.write('No predictions available for specified allele(s).')\n",
    "    else:\n",
    "        outfile.write('Sequence\\t'+'\\t'.join([el.ljust(5) for el in alleles])+'\\tPred.'+'\\t'+'Rank'+'\\n')\n",
    "        for rank, line_items in enumerate(sorted_data):\n",
    "            outfile.write(line_items[0]+'\\t')\n",
    "            outfile.write('\\t'.join('{:4.4f}'.format(s) for s in line_items[2:]))\n",
    "            outfile.write('\\t'+line_items[1].ljust(5)+'\\t'+str(rank+1)+'\\n')\n",
    "        outfile.write('\\n#No predictions available for '+','.join(failed_peps))\n",
    "    outfile.close()"
   ]
  },
  {
   "cell_type": "markdown",
   "metadata": {},
   "source": [
    "data size = 1591， positive = 41（文章比例为 99:1）, allele 比例不均衡（文章数据各个 allele 均等），数据量比原文少很多。"
   ]
  },
  {
   "cell_type": "markdown",
   "metadata": {},
   "source": [
    "1000 棵树，每棵树最多 14 层（特征数的开平方）。"
   ]
  },
  {
   "cell_type": "markdown",
   "metadata": {},
   "source": [
    "### get allele list"
   ]
  },
  {
   "cell_type": "code",
   "execution_count": 7,
   "metadata": {},
   "outputs": [],
   "source": [
    "with open('D:/ForestMHC_origin/ForestMHC_master/outterdata/zeynap_allele.txt', 'r') as f_allele:\n",
    "        alleles_raw = f_allele.readlines()\n",
    "        alleles = list(set([condition_allele(rawallele) for rawallele in alleles_raw]))"
   ]
  },
  {
   "cell_type": "markdown",
   "metadata": {},
   "source": [
    "### get peptides and labels"
   ]
  },
  {
   "cell_type": "code",
   "execution_count": 8,
   "metadata": {},
   "outputs": [],
   "source": [
    "peptides = []\n",
    "true_labels = []\n",
    "with open('D:/ForestMHC_origin/ForestMHC_master/outterdata/zeynap_input.txt', 'r') as f_pep:\n",
    "    lines = f_pep.readlines()\n",
    "    for line in lines:\n",
    "        try:\n",
    "            peptide, lab = line.split()\n",
    "        except:\n",
    "            print(line)\n",
    "        peptides.append(peptide)\n",
    "        true_labels.append(lab)"
   ]
  },
  {
   "cell_type": "markdown",
   "metadata": {},
   "source": [
    "### classification"
   ]
  },
  {
   "cell_type": "code",
   "execution_count": 9,
   "metadata": {
    "scrolled": true
   },
   "outputs": [
    {
     "name": "stdout",
     "output_type": "stream",
     "text": [
      "['A', 'R', 'N', 'D', 'C', 'Q', 'E', 'G', 'H', 'I', 'L', 'K', 'M', 'F', 'P', 'S', 'T', 'W', 'Y', 'V']\n",
      "1641 0\n"
     ]
    },
    {
     "name": "stderr",
     "output_type": "stream",
     "text": [
      "C:\\ProgramData\\Anaconda3\\lib\\site-packages\\sklearn\\base.py:306: UserWarning: Trying to unpickle estimator DecisionTreeClassifier from version 0.19.1 when using version 0.21.3. This might lead to breaking code or invalid results. Use at your own risk.\n",
      "  UserWarning)\n",
      "C:\\ProgramData\\Anaconda3\\lib\\site-packages\\sklearn\\base.py:306: UserWarning: Trying to unpickle estimator RandomForestClassifier from version 0.19.1 when using version 0.21.3. This might lead to breaking code or invalid results. Use at your own risk.\n",
      "  UserWarning)\n"
     ]
    },
    {
     "name": "stdout",
     "output_type": "stream",
     "text": [
      "processed B2705\n"
     ]
    },
    {
     "name": "stderr",
     "output_type": "stream",
     "text": [
      "C:\\ProgramData\\Anaconda3\\lib\\site-packages\\sklearn\\base.py:306: UserWarning: Trying to unpickle estimator DecisionTreeClassifier from version 0.19.1 when using version 0.21.3. This might lead to breaking code or invalid results. Use at your own risk.\n",
      "  UserWarning)\n",
      "C:\\ProgramData\\Anaconda3\\lib\\site-packages\\sklearn\\base.py:306: UserWarning: Trying to unpickle estimator RandomForestClassifier from version 0.19.1 when using version 0.21.3. This might lead to breaking code or invalid results. Use at your own risk.\n",
      "  UserWarning)\n"
     ]
    },
    {
     "name": "stdout",
     "output_type": "stream",
     "text": [
      "processed B4403\n"
     ]
    },
    {
     "name": "stderr",
     "output_type": "stream",
     "text": [
      "C:\\ProgramData\\Anaconda3\\lib\\site-packages\\sklearn\\base.py:306: UserWarning: Trying to unpickle estimator DecisionTreeClassifier from version 0.19.1 when using version 0.21.3. This might lead to breaking code or invalid results. Use at your own risk.\n",
      "  UserWarning)\n",
      "C:\\ProgramData\\Anaconda3\\lib\\site-packages\\sklearn\\base.py:306: UserWarning: Trying to unpickle estimator RandomForestClassifier from version 0.19.1 when using version 0.21.3. This might lead to breaking code or invalid results. Use at your own risk.\n",
      "  UserWarning)\n"
     ]
    },
    {
     "name": "stdout",
     "output_type": "stream",
     "text": [
      "processed C0602\n"
     ]
    },
    {
     "name": "stderr",
     "output_type": "stream",
     "text": [
      "C:\\ProgramData\\Anaconda3\\lib\\site-packages\\sklearn\\base.py:306: UserWarning: Trying to unpickle estimator DecisionTreeClassifier from version 0.19.1 when using version 0.21.3. This might lead to breaking code or invalid results. Use at your own risk.\n",
      "  UserWarning)\n",
      "C:\\ProgramData\\Anaconda3\\lib\\site-packages\\sklearn\\base.py:306: UserWarning: Trying to unpickle estimator RandomForestClassifier from version 0.19.1 when using version 0.21.3. This might lead to breaking code or invalid results. Use at your own risk.\n",
      "  UserWarning)\n"
     ]
    },
    {
     "name": "stdout",
     "output_type": "stream",
     "text": [
      "processed A6802\n"
     ]
    },
    {
     "name": "stderr",
     "output_type": "stream",
     "text": [
      "C:\\ProgramData\\Anaconda3\\lib\\site-packages\\sklearn\\base.py:306: UserWarning: Trying to unpickle estimator DecisionTreeClassifier from version 0.19.1 when using version 0.21.3. This might lead to breaking code or invalid results. Use at your own risk.\n",
      "  UserWarning)\n",
      "C:\\ProgramData\\Anaconda3\\lib\\site-packages\\sklearn\\base.py:306: UserWarning: Trying to unpickle estimator RandomForestClassifier from version 0.19.1 when using version 0.21.3. This might lead to breaking code or invalid results. Use at your own risk.\n",
      "  UserWarning)\n"
     ]
    },
    {
     "name": "stdout",
     "output_type": "stream",
     "text": [
      "processed B5101\n",
      "no classifier for C1403.\n"
     ]
    },
    {
     "name": "stderr",
     "output_type": "stream",
     "text": [
      "C:\\ProgramData\\Anaconda3\\lib\\site-packages\\sklearn\\base.py:306: UserWarning: Trying to unpickle estimator DecisionTreeClassifier from version 0.19.1 when using version 0.21.3. This might lead to breaking code or invalid results. Use at your own risk.\n",
      "  UserWarning)\n",
      "C:\\ProgramData\\Anaconda3\\lib\\site-packages\\sklearn\\base.py:306: UserWarning: Trying to unpickle estimator RandomForestClassifier from version 0.19.1 when using version 0.21.3. This might lead to breaking code or invalid results. Use at your own risk.\n",
      "  UserWarning)\n"
     ]
    },
    {
     "name": "stdout",
     "output_type": "stream",
     "text": [
      "processed A0301\n"
     ]
    },
    {
     "name": "stderr",
     "output_type": "stream",
     "text": [
      "C:\\ProgramData\\Anaconda3\\lib\\site-packages\\sklearn\\base.py:306: UserWarning: Trying to unpickle estimator DecisionTreeClassifier from version 0.19.1 when using version 0.21.3. This might lead to breaking code or invalid results. Use at your own risk.\n",
      "  UserWarning)\n",
      "C:\\ProgramData\\Anaconda3\\lib\\site-packages\\sklearn\\base.py:306: UserWarning: Trying to unpickle estimator RandomForestClassifier from version 0.19.1 when using version 0.21.3. This might lead to breaking code or invalid results. Use at your own risk.\n",
      "  UserWarning)\n"
     ]
    },
    {
     "name": "stdout",
     "output_type": "stream",
     "text": [
      "processed B0702\n"
     ]
    },
    {
     "name": "stderr",
     "output_type": "stream",
     "text": [
      "C:\\ProgramData\\Anaconda3\\lib\\site-packages\\sklearn\\base.py:306: UserWarning: Trying to unpickle estimator DecisionTreeClassifier from version 0.19.1 when using version 0.21.3. This might lead to breaking code or invalid results. Use at your own risk.\n",
      "  UserWarning)\n",
      "C:\\ProgramData\\Anaconda3\\lib\\site-packages\\sklearn\\base.py:306: UserWarning: Trying to unpickle estimator RandomForestClassifier from version 0.19.1 when using version 0.21.3. This might lead to breaking code or invalid results. Use at your own risk.\n",
      "  UserWarning)\n"
     ]
    },
    {
     "name": "stdout",
     "output_type": "stream",
     "text": [
      "processed A1101\n"
     ]
    },
    {
     "name": "stderr",
     "output_type": "stream",
     "text": [
      "C:\\ProgramData\\Anaconda3\\lib\\site-packages\\sklearn\\base.py:306: UserWarning: Trying to unpickle estimator DecisionTreeClassifier from version 0.19.1 when using version 0.21.3. This might lead to breaking code or invalid results. Use at your own risk.\n",
      "  UserWarning)\n",
      "C:\\ProgramData\\Anaconda3\\lib\\site-packages\\sklearn\\base.py:306: UserWarning: Trying to unpickle estimator RandomForestClassifier from version 0.19.1 when using version 0.21.3. This might lead to breaking code or invalid results. Use at your own risk.\n",
      "  UserWarning)\n"
     ]
    },
    {
     "name": "stdout",
     "output_type": "stream",
     "text": [
      "processed A2402\n"
     ]
    },
    {
     "name": "stderr",
     "output_type": "stream",
     "text": [
      "C:\\ProgramData\\Anaconda3\\lib\\site-packages\\sklearn\\base.py:306: UserWarning: Trying to unpickle estimator DecisionTreeClassifier from version 0.19.1 when using version 0.21.3. This might lead to breaking code or invalid results. Use at your own risk.\n",
      "  UserWarning)\n",
      "C:\\ProgramData\\Anaconda3\\lib\\site-packages\\sklearn\\base.py:306: UserWarning: Trying to unpickle estimator RandomForestClassifier from version 0.19.1 when using version 0.21.3. This might lead to breaking code or invalid results. Use at your own risk.\n",
      "  UserWarning)\n"
     ]
    },
    {
     "name": "stdout",
     "output_type": "stream",
     "text": [
      "processed A0101\n"
     ]
    },
    {
     "name": "stderr",
     "output_type": "stream",
     "text": [
      "C:\\ProgramData\\Anaconda3\\lib\\site-packages\\sklearn\\base.py:306: UserWarning: Trying to unpickle estimator DecisionTreeClassifier from version 0.19.1 when using version 0.21.3. This might lead to breaking code or invalid results. Use at your own risk.\n",
      "  UserWarning)\n",
      "C:\\ProgramData\\Anaconda3\\lib\\site-packages\\sklearn\\base.py:306: UserWarning: Trying to unpickle estimator RandomForestClassifier from version 0.19.1 when using version 0.21.3. This might lead to breaking code or invalid results. Use at your own risk.\n",
      "  UserWarning)\n"
     ]
    },
    {
     "name": "stdout",
     "output_type": "stream",
     "text": [
      "processed B1501\n"
     ]
    },
    {
     "name": "stderr",
     "output_type": "stream",
     "text": [
      "C:\\ProgramData\\Anaconda3\\lib\\site-packages\\sklearn\\base.py:306: UserWarning: Trying to unpickle estimator DecisionTreeClassifier from version 0.19.1 when using version 0.21.3. This might lead to breaking code or invalid results. Use at your own risk.\n",
      "  UserWarning)\n",
      "C:\\ProgramData\\Anaconda3\\lib\\site-packages\\sklearn\\base.py:306: UserWarning: Trying to unpickle estimator RandomForestClassifier from version 0.19.1 when using version 0.21.3. This might lead to breaking code or invalid results. Use at your own risk.\n",
      "  UserWarning)\n"
     ]
    },
    {
     "name": "stdout",
     "output_type": "stream",
     "text": [
      "processed A6801\n",
      "no classifier for B5201.\n"
     ]
    },
    {
     "name": "stderr",
     "output_type": "stream",
     "text": [
      "C:\\ProgramData\\Anaconda3\\lib\\site-packages\\sklearn\\base.py:306: UserWarning: Trying to unpickle estimator DecisionTreeClassifier from version 0.19.1 when using version 0.21.3. This might lead to breaking code or invalid results. Use at your own risk.\n",
      "  UserWarning)\n",
      "C:\\ProgramData\\Anaconda3\\lib\\site-packages\\sklearn\\base.py:306: UserWarning: Trying to unpickle estimator RandomForestClassifier from version 0.19.1 when using version 0.21.3. This might lead to breaking code or invalid results. Use at your own risk.\n",
      "  UserWarning)\n"
     ]
    },
    {
     "name": "stdout",
     "output_type": "stream",
     "text": [
      "processed B4402\n"
     ]
    },
    {
     "name": "stderr",
     "output_type": "stream",
     "text": [
      "C:\\ProgramData\\Anaconda3\\lib\\site-packages\\sklearn\\base.py:306: UserWarning: Trying to unpickle estimator DecisionTreeClassifier from version 0.19.1 when using version 0.21.3. This might lead to breaking code or invalid results. Use at your own risk.\n",
      "  UserWarning)\n",
      "C:\\ProgramData\\Anaconda3\\lib\\site-packages\\sklearn\\base.py:306: UserWarning: Trying to unpickle estimator RandomForestClassifier from version 0.19.1 when using version 0.21.3. This might lead to breaking code or invalid results. Use at your own risk.\n",
      "  UserWarning)\n"
     ]
    },
    {
     "name": "stdout",
     "output_type": "stream",
     "text": [
      "processed A0201\n"
     ]
    },
    {
     "name": "stderr",
     "output_type": "stream",
     "text": [
      "C:\\ProgramData\\Anaconda3\\lib\\site-packages\\sklearn\\base.py:306: UserWarning: Trying to unpickle estimator DecisionTreeClassifier from version 0.19.1 when using version 0.21.3. This might lead to breaking code or invalid results. Use at your own risk.\n",
      "  UserWarning)\n",
      "C:\\ProgramData\\Anaconda3\\lib\\site-packages\\sklearn\\base.py:306: UserWarning: Trying to unpickle estimator RandomForestClassifier from version 0.19.1 when using version 0.21.3. This might lead to breaking code or invalid results. Use at your own risk.\n",
      "  UserWarning)\n"
     ]
    },
    {
     "name": "stdout",
     "output_type": "stream",
     "text": [
      "processed B3801\n"
     ]
    }
   ],
   "source": [
    "allele_list, sorted_data, fail_peptides = forest_mhc(alleles, peptides)"
   ]
  },
  {
   "cell_type": "code",
   "execution_count": 10,
   "metadata": {},
   "outputs": [],
   "source": [
    "pep_dict = {}\n",
    "for line in sorted_data:\n",
    "    pep = line[0]\n",
    "    pep_dict[pep] = max(line[2:])"
   ]
  },
  {
   "cell_type": "code",
   "execution_count": 11,
   "metadata": {},
   "outputs": [],
   "source": [
    "data = pd.read_excel(\"C:/Users/wukak.DESKTOP-P3OP3SU/Desktop/Zeynap/sptable5.xlsx\")\n",
    "data = data[['mt.pep', 'length', 'hla', 'classification']][data['length']==9]\n",
    "data = data[data['hla'] != 'HLA-B*52:01']\n",
    "data_rf = data[data['hla'] != 'HLA-C*14:03']\n",
    "data_rf.reset_index(drop=True, inplace=True)"
   ]
  },
  {
   "cell_type": "code",
   "execution_count": 12,
   "metadata": {},
   "outputs": [
    {
     "name": "stderr",
     "output_type": "stream",
     "text": [
      "C:\\ProgramData\\Anaconda3\\lib\\site-packages\\ipykernel_launcher.py:1: SettingWithCopyWarning: \n",
      "A value is trying to be set on a copy of a slice from a DataFrame.\n",
      "Try using .loc[row_indexer,col_indexer] = value instead\n",
      "\n",
      "See the caveats in the documentation: http://pandas.pydata.org/pandas-docs/stable/user_guide/indexing.html#returning-a-view-versus-a-copy\n",
      "  \"\"\"Entry point for launching an IPython kernel.\n"
     ]
    }
   ],
   "source": [
    "data_rf['random_forest'] = np.nan"
   ]
  },
  {
   "cell_type": "code",
   "execution_count": 13,
   "metadata": {},
   "outputs": [
    {
     "name": "stderr",
     "output_type": "stream",
     "text": [
      "C:\\ProgramData\\Anaconda3\\lib\\site-packages\\pandas\\core\\indexing.py:494: SettingWithCopyWarning: \n",
      "A value is trying to be set on a copy of a slice from a DataFrame.\n",
      "Try using .loc[row_indexer,col_indexer] = value instead\n",
      "\n",
      "See the caveats in the documentation: http://pandas.pydata.org/pandas-docs/stable/user_guide/indexing.html#returning-a-view-versus-a-copy\n",
      "  self.obj[item] = s\n"
     ]
    }
   ],
   "source": [
    "for i in data_rf.index:\n",
    "    data_rf.loc[i, 'random_forest'] = pep_dict[data_rf.loc[i, 'mt.pep']]\n",
    "data_rf = data_rf.dropna()"
   ]
  },
  {
   "cell_type": "code",
   "execution_count": 14,
   "metadata": {},
   "outputs": [],
   "source": [
    "def roc(data, feature):\n",
    "    '''\n",
    "    get labels and predicted score for roc\n",
    "    \n",
    "    data = dataframe\n",
    "    feature = a column of the dataframe\n",
    "    \n",
    "    '''\n",
    "    lab = [1 if l == 'positive' else 0 for l in data['classification']]\n",
    "    score = data[feature]\n",
    "    pos_score = [s for l,s in zip(lab, score) if l == 1]\n",
    "    if np.mean(pos_score) < np.mean(score):\n",
    "        score = [-s for s in score]\n",
    "    \n",
    "    return lab, score"
   ]
  },
  {
   "cell_type": "code",
   "execution_count": 15,
   "metadata": {},
   "outputs": [],
   "source": [
    "def draw_roc(data, feature):\n",
    "    '''\n",
    "    draw roc\n",
    "    \n",
    "    data = dataframe\n",
    "    feature = a column of the dataframe\n",
    "    \n",
    "    '''   \n",
    "    lab, score = roc(data, feature)\n",
    "    auc_score = skm.roc_auc_score(lab, score)\n",
    "    fpr, tpr = skm.roc_curve(lab, score)[:2]\n",
    "    plt.plot(fpr, tpr, label = feature + ' auc= ' + str(auc_score))\n",
    "    \n",
    "    return True"
   ]
  },
  {
   "cell_type": "code",
   "execution_count": 16,
   "metadata": {},
   "outputs": [],
   "source": [
    "data_others = pd.read_excel('C:/Users/wukak.DESKTOP-P3OP3SU/Desktop/Zeynap/sptable5.xlsx').dropna()\n",
    "data_others = data_others[data_others['length'] == 9]\n",
    "data_others = data_others[data_others['hla'] != 'HLA-B*52:01']\n",
    "data_others = data_others[data_others['hla'] != 'HLA-C*14:03']"
   ]
  },
  {
   "cell_type": "markdown",
   "metadata": {},
   "source": [
    "### ROC and ROCAUC"
   ]
  },
  {
   "cell_type": "code",
   "execution_count": 17,
   "metadata": {
    "scrolled": false
   },
   "outputs": [
    {
     "data": {
      "text/plain": [
       "Text(0.5, 1.0, 'ROC')"
      ]
     },
     "execution_count": 17,
     "metadata": {},
     "output_type": "execute_result"
    },
    {
     "data": {
      "image/png": "[encoded data removed]",
      "text/plain": [
       "<Figure size 720x504 with 1 Axes>"
      ]
     },
     "metadata": {
      "needs_background": "light"
     },
     "output_type": "display_data"
    }
   ],
   "source": [
    "plt.figure(figsize=(10,7))\n",
    "draw_roc(data_rf, 'random_forest')\n",
    "draw_roc(data_others, 'mt.ic50')\n",
    "draw_roc(data_others, 'mt.pred.stab')\n",
    "draw_roc(data_others, 'mt.score.netmhcpan4.EL')\n",
    "plt.legend()\n",
    "plt.xlabel('FPR', fontsize = 12)\n",
    "plt.ylabel('TPR', fontsize = 12)\n",
    "plt.title('ROC',fontsize='15')"
   ]
  },
  {
   "cell_type": "markdown",
   "metadata": {},
   "source": [
    "### Prec1%"
   ]
  },
  {
   "cell_type": "code",
   "execution_count": 27,
   "metadata": {},
   "outputs": [
    {
     "name": "stdout",
     "output_type": "stream",
     "text": [
      "1591\n"
     ]
    }
   ],
   "source": [
    "SIZE = int(len(data_rf))\n",
    "print(SIZE)"
   ]
  },
  {
   "cell_type": "code",
   "execution_count": 29,
   "metadata": {},
   "outputs": [],
   "source": [
    "def prec1(data, feature):\n",
    "    '''\n",
    "    get top %1 precision\n",
    "    \n",
    "    data = dataframe\n",
    "    feature = a column of the dataframe\n",
    "    \n",
    "    '''\n",
    "    data_sampled = data[['classification',feature]]\n",
    "    if np.mean(data_sampled[data_sampled['classification']=='positive'][feature]) < np.mean(data_sampled[feature]):\n",
    "        data_sampled[feature] = -data_sampled[feature]\n",
    "    \n",
    "    data_sampled.sort_values(by = [feature], inplace = True, ascending = False)\n",
    "    topdata = data_sampled[:int(SIZE/100)]\n",
    "    #return data_sampled\n",
    "    return float(len(topdata[topdata['classification'] == 'positive']))/(float(SIZE)/100)"
   ]
  },
  {
   "cell_type": "code",
   "execution_count": 30,
   "metadata": {},
   "outputs": [
    {
     "name": "stderr",
     "output_type": "stream",
     "text": [
      "C:\\ProgramData\\Anaconda3\\lib\\site-packages\\ipykernel_launcher.py:13: SettingWithCopyWarning: \n",
      "A value is trying to be set on a copy of a slice from a DataFrame\n",
      "\n",
      "See the caveats in the documentation: http://pandas.pydata.org/pandas-docs/stable/user_guide/indexing.html#returning-a-view-versus-a-copy\n",
      "  del sys.path[0]\n",
      "C:\\ProgramData\\Anaconda3\\lib\\site-packages\\ipykernel_launcher.py:11: SettingWithCopyWarning: \n",
      "A value is trying to be set on a copy of a slice from a DataFrame.\n",
      "Try using .loc[row_indexer,col_indexer] = value instead\n",
      "\n",
      "See the caveats in the documentation: http://pandas.pydata.org/pandas-docs/stable/user_guide/indexing.html#returning-a-view-versus-a-copy\n",
      "  # This is added back by InteractiveShellApp.init_path()\n"
     ]
    }
   ],
   "source": [
    "result = [prec1(data_rf, 'random_forest'), prec1(data_others, 'mt.ic50'), \n",
    "          prec1(data_others, 'mt.pred.stab'), prec1(data_others, 'mt.score.netmhcpan4.EL')]"
   ]
  },
  {
   "cell_type": "code",
   "execution_count": 31,
   "metadata": {},
   "outputs": [
    {
     "data": {
      "text/plain": [
       "Text(0, 0.5, 'top %1 precision')"
      ]
     },
     "execution_count": 31,
     "metadata": {},
     "output_type": "execute_result"
    },
    {
     "data": {
      "image/png": "[encoded data removed]",
      "text/plain": [
       "<Figure size 720x504 with 1 Axes>"
      ]
     },
     "metadata": {
      "needs_background": "light"
     },
     "output_type": "display_data"
    }
   ],
   "source": [
    "plt.figure(figsize=(10,7))\n",
    "plt.bar(['ForestMHC', 'NetMHCpan2.8', 'NetMHCstabpan', 'NetMHCpan4.0'], result)\n",
    "plt.title('Prec1', fontsize = 15)\n",
    "plt.ylabel('top %1 precision', fontsize = 12)"
   ]
  },
  {
   "cell_type": "markdown",
   "metadata": {},
   "source": [
    "其他三个工具的结果比文章高很多，但是 ForestMHC 基本达到文章展示的效果（文章 ForestMHC 在未见过的数据集里 prec1% 将近 0.6）。"
   ]
  },
  {
   "cell_type": "markdown",
   "metadata": {},
   "source": [
    "原文用 MS 识别 534 条数据，并用 1:99 的比例加入 decoys，共 53400。进行 5 次，每次使用不同的 decoys。"
   ]
  },
  {
   "cell_type": "markdown",
   "metadata": {},
   "source": [
    "prec1 展现的结果说明，在限制估计是 positive 的样本数目的情况下，精确度能够达到文章展示的不错的 PPV。但是文章的 positive labels 有 538 个，这个数据集只有 16 个左右。"
   ]
  },
  {
   "cell_type": "markdown",
   "metadata": {},
   "source": [
    "### prec2.5%"
   ]
  },
  {
   "cell_type": "code",
   "execution_count": 33,
   "metadata": {},
   "outputs": [],
   "source": [
    "def prec25(data, feature):\n",
    "    '''\n",
    "    get top %1 precision\n",
    "    \n",
    "    data = dataframe\n",
    "    feature = a column of the dataframe\n",
    "    \n",
    "    '''\n",
    "    data_sampled = data[['classification',feature]]\n",
    "    if np.mean(data_sampled[data_sampled['classification']=='positive'][feature]) < np.mean(data_sampled[feature]):\n",
    "        data_sampled[feature] = -data_sampled[feature]\n",
    "    \n",
    "    data_sampled.sort_values(by = [feature], inplace = True, ascending = False)\n",
    "    topdata = data_sampled[:int(SIZE * 0.025)]\n",
    "    #return data_sampled\n",
    "    return float(len(topdata[topdata['classification'] == 'positive']))/(float(SIZE) * 0.025)"
   ]
  },
  {
   "cell_type": "code",
   "execution_count": 34,
   "metadata": {},
   "outputs": [
    {
     "name": "stderr",
     "output_type": "stream",
     "text": [
      "C:\\ProgramData\\Anaconda3\\lib\\site-packages\\ipykernel_launcher.py:13: SettingWithCopyWarning: \n",
      "A value is trying to be set on a copy of a slice from a DataFrame\n",
      "\n",
      "See the caveats in the documentation: http://pandas.pydata.org/pandas-docs/stable/user_guide/indexing.html#returning-a-view-versus-a-copy\n",
      "  del sys.path[0]\n",
      "C:\\ProgramData\\Anaconda3\\lib\\site-packages\\ipykernel_launcher.py:11: SettingWithCopyWarning: \n",
      "A value is trying to be set on a copy of a slice from a DataFrame.\n",
      "Try using .loc[row_indexer,col_indexer] = value instead\n",
      "\n",
      "See the caveats in the documentation: http://pandas.pydata.org/pandas-docs/stable/user_guide/indexing.html#returning-a-view-versus-a-copy\n",
      "  # This is added back by InteractiveShellApp.init_path()\n"
     ]
    }
   ],
   "source": [
    "result = [prec25(data_rf, 'random_forest'), prec25(data_others, 'mt.ic50'), \n",
    "          prec25(data_others, 'mt.pred.stab'), prec25(data_others, 'mt.score.netmhcpan4.EL')]"
   ]
  },
  {
   "cell_type": "code",
   "execution_count": 36,
   "metadata": {},
   "outputs": [
    {
     "data": {
      "text/plain": [
       "Text(0, 0.5, 'top %2.5 precision')"
      ]
     },
     "execution_count": 36,
     "metadata": {},
     "output_type": "execute_result"
    },
    {
     "data": {
      "image/png": "[encoded data removed]",
      "text/plain": [
       "<Figure size 720x504 with 1 Axes>"
      ]
     },
     "metadata": {
      "needs_background": "light"
     },
     "output_type": "display_data"
    }
   ],
   "source": [
    "plt.figure(figsize=(10,7))\n",
    "plt.bar(['ForestMHC', 'NetMHCpan2.8', 'NetMHCstabpan', 'NetMHCpan4.0'], result)\n",
    "plt.title('Prec25', fontsize = 15)\n",
    "plt.ylabel('top %2.5 precision', fontsize = 12)"
   ]
  },
  {
   "cell_type": "markdown",
   "metadata": {},
   "source": [
    "### AUPRC"
   ]
  },
  {
   "cell_type": "code",
   "execution_count": 22,
   "metadata": {},
   "outputs": [],
   "source": [
    "def draw_prc(data, feature):\n",
    "    '''\n",
    "    draw prc\n",
    "    \n",
    "    data = dataframe\n",
    "    feature = a column of the dataframe\n",
    "    \n",
    "    '''   \n",
    "    lab, score = roc(data, feature)\n",
    "    auprc_score = skm.average_precision_score(lab, score)\n",
    "    precision, recall = skm.precision_recall_curve(lab, score)[:2]\n",
    "    plt.plot(recall, precision, label = feature + ' auprc= ' + str(auprc_score))\n",
    "    \n",
    "    return True"
   ]
  },
  {
   "cell_type": "code",
   "execution_count": 23,
   "metadata": {
    "scrolled": false
   },
   "outputs": [
    {
     "data": {
      "text/plain": [
       "Text(0.5, 1.0, 'PRC')"
      ]
     },
     "execution_count": 23,
     "metadata": {},
     "output_type": "execute_result"
    },
    {
     "data": {
      "image/png": "[encoded data removed]",
      "text/plain": [
       "<Figure size 720x504 with 1 Axes>"
      ]
     },
     "metadata": {
      "needs_background": "light"
     },
     "output_type": "display_data"
    }
   ],
   "source": [
    "plt.figure(figsize=(10,7))\n",
    "draw_prc(data_rf, 'random_forest')\n",
    "draw_prc(data_others, 'mt.ic50')\n",
    "draw_prc(data_others, 'mt.pred.stab')\n",
    "draw_prc(data_others, 'mt.score.netmhcpan4.EL')\n",
    "plt.legend()\n",
    "plt.xlabel('Recall(TPR)', fontsize = 12)\n",
    "plt.ylabel('Precision', fontsize = 12)\n",
    "plt.title('PRC',fontsize='15')"
   ]
  },
  {
   "cell_type": "markdown",
   "metadata": {},
   "source": [
    "与上一个图结合来看，虽然在控制 TP + FP 的情况下，PPV 可以很高（FP 低），但是上图显示，如果需要大比例捕获 positive 样本，则会伴随 precision 丢失（相比其他三个工具在这个数据集上的表现）。也就是说，这个工具在这个数据集上展现的覆盖正例的能力较差。"
   ]
  },
  {
   "cell_type": "markdown",
   "metadata": {},
   "source": [
    "### correlation with IC50"
   ]
  },
  {
   "cell_type": "code",
   "execution_count": 24,
   "metadata": {},
   "outputs": [],
   "source": [
    "data_ic50 = data_others[['mt.pep','classification','mt.ic50']].copy()"
   ]
  },
  {
   "cell_type": "code",
   "execution_count": 25,
   "metadata": {},
   "outputs": [],
   "source": [
    "data_ic50['random_forest'] = np.nan"
   ]
  },
  {
   "cell_type": "code",
   "execution_count": 26,
   "metadata": {},
   "outputs": [
    {
     "data": {
      "text/plain": [
       "[<matplotlib.lines.Line2D at 0x23626138ec8>]"
      ]
     },
     "execution_count": 26,
     "metadata": {},
     "output_type": "execute_result"
    },
    {
     "data": {
      "image/png": "[encoded data removed]",
      "text/plain": [
       "<Figure size 432x288 with 1 Axes>"
      ]
     },
     "metadata": {
      "needs_background": "light"
     },
     "output_type": "display_data"
    }
   ],
   "source": [
    "for i in data_ic50.index:\n",
    "    data_ic50.loc[i, 'random_forest'] = pep_dict[data_ic50.loc[i, 'mt.pep']]\n",
    "plt.plot(sorted(data_ic50['mt.ic50']), np.array(data_ic50['random_forest'])[np.argsort(data_ic50['mt.ic50'])])"
   ]
  },
  {
   "cell_type": "markdown",
   "metadata": {},
   "source": [
    "在这个数据集中和 NetMHCpan2.8 的 IC50 基本上没有看出协同性。"
   ]
  }
 ],
 "metadata": {
  "kernelspec": {
   "display_name": "Python 3",
   "language": "python",
   "name": "python3"
  },
  "language_info": {
   "codemirror_mode": {
    "name": "ipython",
    "version": 3
   },
   "file_extension": ".py",
   "mimetype": "text/x-python",
   "name": "python",
   "nbconvert_exporter": "python",
   "pygments_lexer": "ipython3",
   "version": "3.7.4"
  }
 },
 "nbformat": 4,
 "nbformat_minor": 2
}
